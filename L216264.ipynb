{
  "nbformat": 4,
  "nbformat_minor": 0,
  "metadata": {
    "colab": {
      "provenance": [],
      "collapsed_sections": []
    },
    "kernelspec": {
      "name": "python3",
      "display_name": "Python 3"
    },
    "language_info": {
      "name": "python"
    }
  },
  "cells": [
    {
      "cell_type": "markdown",
      "source": [
        "# Introduction To Data Science – Assignment 1\n",
        "\n",
        "---\n",
        "\n",
        "### Sections A – B – C – D\n",
        "\n",
        "---\n",
        "\n",
        "***Instructions***\n",
        "\n",
        "Due Date: Sunday 18th September 2022 – 11:59PM\n",
        "\n",
        "Name the file in the format Lyyxxxx and save it as .ipynb (e.g. L201234.ipynb)\n",
        "\n",
        "Submission will be taken on **GitHub and Google Classroom (submit the .ipynb file)** - Instructions to upload onto GitHub are provided in the link https://docs.google.com/document/d/1BR1ULOGeGWJVU6Rr6Qty1FR-quVRZyRvQGII6nEs-wo/edit?usp=sharing\n",
        "\n",
        "After uploading and submitting the .ipynb file onto Google Classroom, also private comment the link to the GitHub repository.\n",
        "\n",
        "All source files needed to complete this assignment can be found on the following Google Drive link https://drive.google.com/drive/folders/1VrkaVcExGWqilSeh50WZe4gUBjmUiJ9b?usp=sharing\n",
        "\n",
        "TA Emails\n",
        "\n",
        "Section A, C - Muhammad Maarij l192347@lhr.nu.edu.pk\n",
        "\n",
        "Section B, D - Hira Ijaz l192377@lhr.nu.edu.pk\n",
        "\n",
        "Happy Coding 😊\n",
        "\n",
        "---"
      ],
      "metadata": {
        "id": "TWWLTwYZorzC"
      }
    },
    {
      "cell_type": "markdown",
      "source": [
        "---\n",
        "## Question 1\n",
        "---"
      ],
      "metadata": {
        "id": "arB_0r9H0jjC"
      }
    },
    {
      "cell_type": "markdown",
      "source": [
        "Define a procedure called \"check_input\" that takes an input as a square list of lists (2D Matrix of N x N) and returns a boolen \"true\" if the input is valid or \"false\" otherwise, according to the following criteria.\n",
        "\n",
        "1. Each coloumn must contain numbers from between 1 and N, with no duplicates.\n",
        "2. Each row must contain numbers from between 1 and N, with no duplicates."
      ],
      "metadata": {
        "id": "qHPTNDy30n99"
      }
    },
    {
      "cell_type": "code",
      "source": [
        "# define procedure here\n",
        "def check_input(test1):\n",
        "  \"\"\"\n",
        "  This function takes the input of different lists\n",
        "  and returns true if the input is valid \n",
        "  \"\"\"\n",
        "  count=0\n",
        "  c=0\n",
        "  i=0\n",
        "  ans=0\n",
        "  a=0\n",
        "  check=1 #variables for range starting\n",
        "  length=(len(test1))\n",
        "  till=length #variables for range end till size of list\n",
        "  l=str(len(test1))\n",
        "  while i<len(test1):\n",
        "    list=[]\n",
        "    j=0\n",
        "    while j<len(test1[i]):\n",
        "      if (test1[i][j]<check) or (test1[i][j]>till) :  #range check for rows\n",
        "        ans+=1\n",
        "        break\n",
        "      if(test1[j][i]<check) or (test1[j][i]>till):   #range check for cols\n",
        "        a+=1\n",
        "        break\n",
        "      j+=1\n",
        "    list.extend(test1)\n",
        "    if (length==len(set(test1[i]))): # checking duplicate for rows \n",
        "        count+=1\n",
        "    if(length==len(set(list[i]))): #checking duplicates for cols\n",
        "        c+=1\n",
        "    i+=1\n",
        "  \n",
        "  \n",
        "  if(count<length)  and (c<length) and (ans>=1) and (a>=1): \n",
        "    return 'false'\n",
        "  elif(count==length) and (c==length) and (ans==0) and (a==0): \n",
        "    return 'true'\n",
        "  else:\n",
        "    return 'false'"
      ],
      "metadata": {
        "id": "S2_Zic322Lt7"
      },
      "execution_count": null,
      "outputs": []
    },
    {
      "cell_type": "code",
      "source": [
        "# run this block to test code after defining the procedure\n",
        "\n",
        "test1 = [[1, 2, 3],\n",
        "        [2, 3, 1],\n",
        "        [3, 1, 2]]\n",
        "\n",
        "test2 = [[1, 2, 3, 4],\n",
        "        [2, 3, 1, 3],\n",
        "        [3, 1, 2, 3],\n",
        "        [4, 4, 4, 4]]\n",
        "\n",
        "test3 = [['a', 'b', 'c'],\n",
        "        ['b', 'c', 'a'],\n",
        "        ['c', 'a', 'b']]\n",
        "\n",
        "print(check_input(test1)) # must return true\n",
        "print(check_input(test2)) # must return false\n",
        "print(check_input(test3)) # must return false"
      ],
      "metadata": {
        "id": "wdL9MWgq2ZbP"
      },
      "execution_count": null,
      "outputs": []
    },
    {
      "cell_type": "markdown",
      "source": [
        "---\n",
        "## Question 2\n",
        "---"
      ],
      "metadata": {
        "id": "4RVTlnhWqOUC"
      }
    },
    {
      "cell_type": "markdown",
      "source": [
        "**Part A** - Import the file \"StudentMarkSheet.csv\" as a Pandas DataFrame and print the information for the dataframe"
      ],
      "metadata": {
        "id": "Uyc7JPtNt0pR"
      }
    },
    {
      "cell_type": "code",
      "execution_count": null,
      "metadata": {
        "id": "wYrt7e6Xop2P"
      },
      "outputs": [],
      "source": [
        "import numpy as np\n",
        "import pandas as pd\n",
        "import csv\n",
        "import matplotlib.pyplot as plt\n",
        "%matplotlib inline\n",
        "df = pd.read_csv(\"StudentMarkSheet.csv\")\n",
        "df"
      ]
    },
    {
      "cell_type": "markdown",
      "source": [
        "**Part B** - Remove any rows that do not contain all the data. Also print the following information.\n",
        "\n",
        "1. Number of rows before\n",
        "2. Number of rows containing null data\n",
        "3. Number of rows after"
      ],
      "metadata": {
        "id": "jIaMvgcft_i0"
      }
    },
    {
      "cell_type": "code",
      "source": [
        "totalrows=len(df)\n",
        "print(\"Number of Rows : \",totalrows)\n",
        "df.dropna()\n",
        "ans=len(df) - len(df.dropna())\n",
        "print(\"Number of Rows containing Null : \",ans)\n",
        "print(\"Number of Rows after : \",totalrows-ans)"
      ],
      "metadata": {
        "id": "_ov_SWdxuZUm"
      },
      "execution_count": null,
      "outputs": []
    },
    {
      "cell_type": "markdown",
      "source": [
        "**Part C** - Print all the marks along with the subject for the student named \"James Walker\""
      ],
      "metadata": {
        "id": "2kd9zAX6wkXM"
      }
    },
    {
      "cell_type": "code",
      "source": [
        "i=df[df[\"Student name\"]==\"James Walker\"]\n",
        "print(i)"
      ],
      "metadata": {
        "id": "N0HWJN-PwuSo"
      },
      "execution_count": null,
      "outputs": []
    },
    {
      "cell_type": "markdown",
      "source": [
        "---\n",
        "## Question 3\n",
        "---"
      ],
      "metadata": {
        "id": "ts8Y1EXmwzhf"
      }
    },
    {
      "cell_type": "markdown",
      "source": [
        "**Part A** - From the DataFrame created in Question 2, calculate the average marks for each subject"
      ],
      "metadata": {
        "id": "PJENm_hpw3GQ"
      }
    },
    {
      "cell_type": "code",
      "source": [
        "j=df[df[\"Exam name\"]==\"Biology\"]\n",
        "j.loc[:,\"Marks\"]\n",
        "BM=j.mean(axis=0) #biology mean\n",
        "print(\"Biology Mean :\",BM)\n",
        "a=df[df[\"Exam name\"]==\"Chemistry\"]\n",
        "a.loc[:,\"Marks\"]\n",
        "CM=a.mean(axis=0) #chemistry mean\n",
        "print(\"Chemistry Mean : \",CM)\n",
        "s=df[df[\"Exam name\"]==\"Mathematics\"]\n",
        "s.loc[:,\"Marks\"]\n",
        "MM=s.mean(axis=0) # Mathematics mean\n",
        "print(\"Mathematics Mean : \",MM)\n",
        "d=df[df[\"Exam name\"]==\"Philosophy\"]\n",
        "d.loc[:,\"Marks\"]\n",
        "PM=d.mean(axis=0) # Philosophy mean\n",
        "print(\"Philosophy Mean : \",PM)\n",
        "f=df[df[\"Exam name\"]==\"Physics\"]\n",
        "f.loc[:,\"Marks\"]\n",
        "PYM=f.mean(axis=0) # physic mean\n",
        "print(\"Physics Mean : \",PYM)\n",
        "g=df[df[\"Exam name\"]==\"Sociology\"]\n",
        "g.loc[:,\"Marks\"]\n",
        "SM=g.mean(axis=0) #sociology\n",
        "print(\"Sociology Mean : \",SM)"
      ],
      "metadata": {
        "id": "AxhCtST5xS3L"
      },
      "execution_count": null,
      "outputs": []
    },
    {
      "cell_type": "markdown",
      "source": [
        "**Part B** - Using the averages you just calculated, plot a Bar Graph showing the average marks of each subject"
      ],
      "metadata": {
        "id": "NDlaA7hHxUBc"
      }
    },
    {
      "cell_type": "code",
      "source": [
        "x=[\"Biology\",\"Chemistry\",\"Mathematics\",\"Philosophy\",\"Physics\",\"Sociology\"]\n",
        "y=BM,50,MM,PM,PYM,SM\n",
        "plt.bar(x,y,width=0.6)\n",
        "plt.show()"
      ],
      "metadata": {
        "id": "LWoPFZBOyyNn"
      },
      "execution_count": null,
      "outputs": []
    },
    {
      "cell_type": "markdown",
      "source": [
        "---\n",
        "## Question 4\n",
        "---"
      ],
      "metadata": {
        "id": "dWlOSOIs6d1R"
      }
    },
    {
      "cell_type": "markdown",
      "source": [
        "**Part A** - Import the file \"CatData.csv\" and preprocess it to remove any null values"
      ],
      "metadata": {
        "id": "b4s-pN4v6kgb"
      }
    },
    {
      "cell_type": "code",
      "source": [
        "import numpy as np\n",
        "import pandas as pd\n",
        "import csv\n",
        "import matplotlib.pyplot as plt\n",
        "from sklearn import linear_model\n",
        "df = pd.read_csv(\"CatData.csv\")\n",
        "df.dropna()\n",
        "df"
      ],
      "metadata": {
        "id": "mvZ3xrBV9b1s"
      },
      "execution_count": null,
      "outputs": []
    },
    {
      "cell_type": "markdown",
      "source": [
        "**Part B** - Identify the independant and dependant variables (comment answer below)"
      ],
      "metadata": {
        "id": "bWxuB3ep9SWA"
      }
    },
    {
      "cell_type": "code",
      "source": [
        "# dependant variable: Tail length(cm)\n",
        "# independant variable: mass(kg)"
      ],
      "metadata": {
        "id": "TS9tvuRt9cWr"
      },
      "execution_count": null,
      "outputs": []
    },
    {
      "cell_type": "markdown",
      "source": [
        "**Part C** - Create a linear regression model using sklearn and fit it to the data you just imported\n"
      ],
      "metadata": {
        "id": "xPHVA3cX7uk9"
      }
    },
    {
      "cell_type": "code",
      "source": [
        "#taking data as training and test data\n",
        "num=int(len(df)*0.8)\n",
        " \n",
        "#training data\n",
        "train=df[:num]\n",
        "#testing data\n",
        "test=df[num:]\n",
        "\n",
        "print(\"Data : \",len(df))\n",
        "print(\"Training Data : \",len(train))\n",
        "print(\"Testing Data : \",len(test))\n",
        "\n",
        "#Training the Data \n",
        "regression=linear_model.LinearRegression()\n",
        "\n",
        "train_x=np.array(train[[\"Mass (kg)\"]])\n",
        "train_y=np.array(train[[\"Tail Length (cm)\"]])\n",
        "\n",
        "regression.fit(train_x,train_y)\n",
        "coeff=regression.coef_\n",
        "intercept=regression.intercept_\n",
        "\n",
        "y_pred = (intercept + np.sum(coeff[0] * x))\n",
        "print(\"Predicted Value : \\t\" ,(y_pred))"
      ],
      "metadata": {
        "id": "WYVNRotH9cyo"
      },
      "execution_count": null,
      "outputs": []
    },
    {
      "cell_type": "markdown",
      "source": [
        "**Part D** - Print the values for slope and y-intercept"
      ],
      "metadata": {
        "id": "0QMipKhb830G"
      }
    },
    {
      "cell_type": "code",
      "source": [
        "coeff=regression.coef_\n",
        "intercept=regression.intercept_\n",
        "\n",
        "#Slope\n",
        "print(\"SLOPE :: \",coeff)\n",
        "#intercept\n",
        "print(\"INTERCEPT :: \",intercept)"
      ],
      "metadata": {
        "id": "R7cvi3KB9dJh"
      },
      "execution_count": null,
      "outputs": []
    },
    {
      "cell_type": "markdown",
      "source": [
        "**Part E** - Plot a scatter graph of the original data and a regression line on the same figure (example with dummy data shown below)\n",
        "\n",
        "![](https://drive.google.com/uc?export=view&id=1o_NAsNjfx7zAh9m-UjvWB3rta6uraKdY)"
      ],
      "metadata": {
        "id": "IIq-BQYp_i33"
      }
    },
    {
      "cell_type": "code",
      "source": [
        "#plotting the regression line \n",
        "plt.scatter(train[\"Mass (kg)\"],train[\"Tail Length (cm)\"])\n",
        "plt.plot(train_x,coeff[0]*train_x+intercept,color=\"red\")\n",
        "plt.xlabel(\"Mass (kg)\")\n",
        "plt.ylabel(\"Tail Length (cm) \")\n",
        "plt.show()"
      ],
      "metadata": {
        "id": "jhz8gTYt_lCn"
      },
      "execution_count": null,
      "outputs": []
    }
  ]
}